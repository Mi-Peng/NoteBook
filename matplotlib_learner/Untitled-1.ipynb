{
 "cells": [
  {
   "cell_type": "code",
   "execution_count": 18,
   "metadata": {},
   "outputs": [],
   "source": [
    "import numpy as np\n",
    "x = [10, 15, 23, 11, 42, 9, 11, 8, 11, 21]\n",
    "y = [15, 46, 21, 9, 45, 48, 21, 5, 12, 20]"
   ]
  },
  {
   "cell_type": "code",
   "execution_count": 19,
   "metadata": {},
   "outputs": [
    {
     "data": {
      "text/plain": [
       "array([[108.32222222,  74.53333333],\n",
       "       [ 74.53333333, 260.62222222]])"
      ]
     },
     "execution_count": 19,
     "metadata": {},
     "output_type": "execute_result"
    }
   ],
   "source": [
    "np.cov(x, y)"
   ]
  },
  {
   "cell_type": "code",
   "execution_count": 23,
   "metadata": {},
   "outputs": [
    {
     "name": "stdout",
     "output_type": "stream",
     "text": [
      "74.53333333333332\n"
     ]
    }
   ],
   "source": [
    "result = []\n",
    "for i in range(len(x)):\n",
    "    result.append(x[i] * y[i])\n",
    "xy_cov = (np.mean(result)  - np.mean(x) * np.mean(y))* len(x) / (len(x) - 1)\n",
    "print(xy_cov)"
   ]
  }
 ],
 "metadata": {
  "interpreter": {
   "hash": "236b3d214af1002019bf3580b957f4ae481569fe2fd46e90b5b408c40e2f3f75"
  },
  "kernelspec": {
   "display_name": "Python 3.8.12 64-bit ('pythons': conda)",
   "name": "python3"
  },
  "language_info": {
   "codemirror_mode": {
    "name": "ipython",
    "version": 3
   },
   "file_extension": ".py",
   "mimetype": "text/x-python",
   "name": "python",
   "nbconvert_exporter": "python",
   "pygments_lexer": "ipython3",
   "version": "3.8.12"
  },
  "orig_nbformat": 4
 },
 "nbformat": 4,
 "nbformat_minor": 2
}
